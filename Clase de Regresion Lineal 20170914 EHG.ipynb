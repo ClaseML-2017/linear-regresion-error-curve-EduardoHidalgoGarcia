{
 "cells": [
  {
   "cell_type": "code",
   "execution_count": 1,
   "metadata": {
    "collapsed": true
   },
   "outputs": [],
   "source": [
    "import os\n",
    "cwd = os.getcwd()"
   ]
  },
  {
   "cell_type": "code",
   "execution_count": 2,
   "metadata": {
    "collapsed": false
   },
   "outputs": [
    {
     "data": {
      "text/plain": [
       "'C:\\\\Users\\\\audi'"
      ]
     },
     "execution_count": 2,
     "metadata": {},
     "output_type": "execute_result"
    }
   ],
   "source": [
    "cwd"
   ]
  },
  {
   "cell_type": "code",
   "execution_count": 4,
   "metadata": {
    "collapsed": false
   },
   "outputs": [],
   "source": [
    "import pandas as pd\n",
    "import numpy as np\n",
    "import csv\n",
    "from sklearn.cross_validation import train_test_split\n",
    "from sklearn.linear_model import LinearRegression\n",
    "import matplotlib.pyplot as plt\n",
    "import math as mth\n",
    "%matplotlib inline\n"
   ]
  },
  {
   "cell_type": "markdown",
   "metadata": {},
   "source": [
    "## Cargo los dato a Phyton"
   ]
  },
  {
   "cell_type": "code",
   "execution_count": 6,
   "metadata": {
    "collapsed": false
   },
   "outputs": [
    {
     "data": {
      "text/html": [
       "<div>\n",
       "<table border=\"1\" class=\"dataframe\">\n",
       "  <thead>\n",
       "    <tr style=\"text-align: right;\">\n",
       "      <th></th>\n",
       "      <th>X</th>\n",
       "      <th>y</th>\n",
       "    </tr>\n",
       "  </thead>\n",
       "  <tbody>\n",
       "    <tr>\n",
       "      <th>0</th>\n",
       "      <td>35.657897</td>\n",
       "      <td>28.074403</td>\n",
       "    </tr>\n",
       "    <tr>\n",
       "      <th>1</th>\n",
       "      <td>48.685931</td>\n",
       "      <td>36.674434</td>\n",
       "    </tr>\n",
       "    <tr>\n",
       "      <th>2</th>\n",
       "      <td>95.861773</td>\n",
       "      <td>67.903577</td>\n",
       "    </tr>\n",
       "    <tr>\n",
       "      <th>3</th>\n",
       "      <td>25.997253</td>\n",
       "      <td>11.931727</td>\n",
       "    </tr>\n",
       "    <tr>\n",
       "      <th>4</th>\n",
       "      <td>49.964772</td>\n",
       "      <td>30.286144</td>\n",
       "    </tr>\n",
       "    <tr>\n",
       "      <th>5</th>\n",
       "      <td>55.003337</td>\n",
       "      <td>44.274354</td>\n",
       "    </tr>\n",
       "    <tr>\n",
       "      <th>6</th>\n",
       "      <td>78.375881</td>\n",
       "      <td>49.032737</td>\n",
       "    </tr>\n",
       "    <tr>\n",
       "      <th>7</th>\n",
       "      <td>15.286028</td>\n",
       "      <td>13.862727</td>\n",
       "    </tr>\n",
       "    <tr>\n",
       "      <th>8</th>\n",
       "      <td>81.066092</td>\n",
       "      <td>55.742546</td>\n",
       "    </tr>\n",
       "    <tr>\n",
       "      <th>9</th>\n",
       "      <td>35.059204</td>\n",
       "      <td>30.345383</td>\n",
       "    </tr>\n",
       "    <tr>\n",
       "      <th>10</th>\n",
       "      <td>10.627199</td>\n",
       "      <td>8.284464</td>\n",
       "    </tr>\n",
       "    <tr>\n",
       "      <th>11</th>\n",
       "      <td>67.484259</td>\n",
       "      <td>36.490228</td>\n",
       "    </tr>\n",
       "    <tr>\n",
       "      <th>12</th>\n",
       "      <td>66.230640</td>\n",
       "      <td>46.133427</td>\n",
       "    </tr>\n",
       "    <tr>\n",
       "      <th>13</th>\n",
       "      <td>57.957191</td>\n",
       "      <td>41.872495</td>\n",
       "    </tr>\n",
       "    <tr>\n",
       "      <th>14</th>\n",
       "      <td>95.185536</td>\n",
       "      <td>66.043335</td>\n",
       "    </tr>\n",
       "    <tr>\n",
       "      <th>15</th>\n",
       "      <td>77.219095</td>\n",
       "      <td>52.730262</td>\n",
       "    </tr>\n",
       "    <tr>\n",
       "      <th>16</th>\n",
       "      <td>92.859492</td>\n",
       "      <td>54.155329</td>\n",
       "    </tr>\n",
       "    <tr>\n",
       "      <th>17</th>\n",
       "      <td>67.223617</td>\n",
       "      <td>41.865928</td>\n",
       "    </tr>\n",
       "    <tr>\n",
       "      <th>18</th>\n",
       "      <td>56.746339</td>\n",
       "      <td>36.157093</td>\n",
       "    </tr>\n",
       "    <tr>\n",
       "      <th>19</th>\n",
       "      <td>34.735291</td>\n",
       "      <td>30.568120</td>\n",
       "    </tr>\n",
       "    <tr>\n",
       "      <th>20</th>\n",
       "      <td>97.317591</td>\n",
       "      <td>64.330964</td>\n",
       "    </tr>\n",
       "    <tr>\n",
       "      <th>21</th>\n",
       "      <td>38.591213</td>\n",
       "      <td>19.841434</td>\n",
       "    </tr>\n",
       "    <tr>\n",
       "      <th>22</th>\n",
       "      <td>51.608742</td>\n",
       "      <td>35.630454</td>\n",
       "    </tr>\n",
       "    <tr>\n",
       "      <th>23</th>\n",
       "      <td>59.781250</td>\n",
       "      <td>37.527034</td>\n",
       "    </tr>\n",
       "    <tr>\n",
       "      <th>24</th>\n",
       "      <td>67.810553</td>\n",
       "      <td>43.936642</td>\n",
       "    </tr>\n",
       "    <tr>\n",
       "      <th>25</th>\n",
       "      <td>12.199013</td>\n",
       "      <td>13.374210</td>\n",
       "    </tr>\n",
       "    <tr>\n",
       "      <th>26</th>\n",
       "      <td>25.041432</td>\n",
       "      <td>18.876313</td>\n",
       "    </tr>\n",
       "    <tr>\n",
       "      <th>27</th>\n",
       "      <td>27.765660</td>\n",
       "      <td>14.286040</td>\n",
       "    </tr>\n",
       "    <tr>\n",
       "      <th>28</th>\n",
       "      <td>68.489203</td>\n",
       "      <td>44.008360</td>\n",
       "    </tr>\n",
       "    <tr>\n",
       "      <th>29</th>\n",
       "      <td>15.216642</td>\n",
       "      <td>17.682210</td>\n",
       "    </tr>\n",
       "    <tr>\n",
       "      <th>...</th>\n",
       "      <td>...</td>\n",
       "      <td>...</td>\n",
       "    </tr>\n",
       "    <tr>\n",
       "      <th>999</th>\n",
       "      <td>87.577378</td>\n",
       "      <td>50.821047</td>\n",
       "    </tr>\n",
       "    <tr>\n",
       "      <th>1000</th>\n",
       "      <td>82.166957</td>\n",
       "      <td>50.764372</td>\n",
       "    </tr>\n",
       "    <tr>\n",
       "      <th>1001</th>\n",
       "      <td>34.656976</td>\n",
       "      <td>20.382111</td>\n",
       "    </tr>\n",
       "    <tr>\n",
       "      <th>1002</th>\n",
       "      <td>58.941310</td>\n",
       "      <td>43.430510</td>\n",
       "    </tr>\n",
       "    <tr>\n",
       "      <th>1003</th>\n",
       "      <td>78.875733</td>\n",
       "      <td>51.901006</td>\n",
       "    </tr>\n",
       "    <tr>\n",
       "      <th>1004</th>\n",
       "      <td>59.029010</td>\n",
       "      <td>37.364507</td>\n",
       "    </tr>\n",
       "    <tr>\n",
       "      <th>1005</th>\n",
       "      <td>97.149709</td>\n",
       "      <td>66.186439</td>\n",
       "    </tr>\n",
       "    <tr>\n",
       "      <th>1006</th>\n",
       "      <td>98.433789</td>\n",
       "      <td>67.416817</td>\n",
       "    </tr>\n",
       "    <tr>\n",
       "      <th>1007</th>\n",
       "      <td>2.459832</td>\n",
       "      <td>5.691373</td>\n",
       "    </tr>\n",
       "    <tr>\n",
       "      <th>1008</th>\n",
       "      <td>13.227604</td>\n",
       "      <td>9.330900</td>\n",
       "    </tr>\n",
       "    <tr>\n",
       "      <th>1009</th>\n",
       "      <td>74.039264</td>\n",
       "      <td>47.347642</td>\n",
       "    </tr>\n",
       "    <tr>\n",
       "      <th>1010</th>\n",
       "      <td>19.903694</td>\n",
       "      <td>12.634800</td>\n",
       "    </tr>\n",
       "    <tr>\n",
       "      <th>1011</th>\n",
       "      <td>9.963961</td>\n",
       "      <td>11.554361</td>\n",
       "    </tr>\n",
       "    <tr>\n",
       "      <th>1012</th>\n",
       "      <td>17.743197</td>\n",
       "      <td>14.314224</td>\n",
       "    </tr>\n",
       "    <tr>\n",
       "      <th>1013</th>\n",
       "      <td>91.421756</td>\n",
       "      <td>55.690169</td>\n",
       "    </tr>\n",
       "    <tr>\n",
       "      <th>1014</th>\n",
       "      <td>55.388254</td>\n",
       "      <td>28.850092</td>\n",
       "    </tr>\n",
       "    <tr>\n",
       "      <th>1015</th>\n",
       "      <td>81.563611</td>\n",
       "      <td>51.011377</td>\n",
       "    </tr>\n",
       "    <tr>\n",
       "      <th>1016</th>\n",
       "      <td>67.634153</td>\n",
       "      <td>38.225826</td>\n",
       "    </tr>\n",
       "    <tr>\n",
       "      <th>1017</th>\n",
       "      <td>61.210794</td>\n",
       "      <td>38.130862</td>\n",
       "    </tr>\n",
       "    <tr>\n",
       "      <th>1018</th>\n",
       "      <td>60.426290</td>\n",
       "      <td>39.935617</td>\n",
       "    </tr>\n",
       "    <tr>\n",
       "      <th>1019</th>\n",
       "      <td>20.828499</td>\n",
       "      <td>14.802500</td>\n",
       "    </tr>\n",
       "    <tr>\n",
       "      <th>1020</th>\n",
       "      <td>13.607691</td>\n",
       "      <td>10.221028</td>\n",
       "    </tr>\n",
       "    <tr>\n",
       "      <th>1021</th>\n",
       "      <td>86.939856</td>\n",
       "      <td>56.034948</td>\n",
       "    </tr>\n",
       "    <tr>\n",
       "      <th>1022</th>\n",
       "      <td>65.487903</td>\n",
       "      <td>46.100847</td>\n",
       "    </tr>\n",
       "    <tr>\n",
       "      <th>1023</th>\n",
       "      <td>9.221942</td>\n",
       "      <td>6.720162</td>\n",
       "    </tr>\n",
       "    <tr>\n",
       "      <th>1024</th>\n",
       "      <td>36.091325</td>\n",
       "      <td>19.807188</td>\n",
       "    </tr>\n",
       "    <tr>\n",
       "      <th>1025</th>\n",
       "      <td>77.619137</td>\n",
       "      <td>50.570437</td>\n",
       "    </tr>\n",
       "    <tr>\n",
       "      <th>1026</th>\n",
       "      <td>46.785876</td>\n",
       "      <td>31.300900</td>\n",
       "    </tr>\n",
       "    <tr>\n",
       "      <th>1027</th>\n",
       "      <td>84.080830</td>\n",
       "      <td>51.053419</td>\n",
       "    </tr>\n",
       "    <tr>\n",
       "      <th>1028</th>\n",
       "      <td>24.075852</td>\n",
       "      <td>20.981299</td>\n",
       "    </tr>\n",
       "  </tbody>\n",
       "</table>\n",
       "<p>1029 rows × 2 columns</p>\n",
       "</div>"
      ],
      "text/plain": [
       "              X          y\n",
       "0     35.657897  28.074403\n",
       "1     48.685931  36.674434\n",
       "2     95.861773  67.903577\n",
       "3     25.997253  11.931727\n",
       "4     49.964772  30.286144\n",
       "5     55.003337  44.274354\n",
       "6     78.375881  49.032737\n",
       "7     15.286028  13.862727\n",
       "8     81.066092  55.742546\n",
       "9     35.059204  30.345383\n",
       "10    10.627199   8.284464\n",
       "11    67.484259  36.490228\n",
       "12    66.230640  46.133427\n",
       "13    57.957191  41.872495\n",
       "14    95.185536  66.043335\n",
       "15    77.219095  52.730262\n",
       "16    92.859492  54.155329\n",
       "17    67.223617  41.865928\n",
       "18    56.746339  36.157093\n",
       "19    34.735291  30.568120\n",
       "20    97.317591  64.330964\n",
       "21    38.591213  19.841434\n",
       "22    51.608742  35.630454\n",
       "23    59.781250  37.527034\n",
       "24    67.810553  43.936642\n",
       "25    12.199013  13.374210\n",
       "26    25.041432  18.876313\n",
       "27    27.765660  14.286040\n",
       "28    68.489203  44.008360\n",
       "29    15.216642  17.682210\n",
       "...         ...        ...\n",
       "999   87.577378  50.821047\n",
       "1000  82.166957  50.764372\n",
       "1001  34.656976  20.382111\n",
       "1002  58.941310  43.430510\n",
       "1003  78.875733  51.901006\n",
       "1004  59.029010  37.364507\n",
       "1005  97.149709  66.186439\n",
       "1006  98.433789  67.416817\n",
       "1007   2.459832   5.691373\n",
       "1008  13.227604   9.330900\n",
       "1009  74.039264  47.347642\n",
       "1010  19.903694  12.634800\n",
       "1011   9.963961  11.554361\n",
       "1012  17.743197  14.314224\n",
       "1013  91.421756  55.690169\n",
       "1014  55.388254  28.850092\n",
       "1015  81.563611  51.011377\n",
       "1016  67.634153  38.225826\n",
       "1017  61.210794  38.130862\n",
       "1018  60.426290  39.935617\n",
       "1019  20.828499  14.802500\n",
       "1020  13.607691  10.221028\n",
       "1021  86.939856  56.034948\n",
       "1022  65.487903  46.100847\n",
       "1023   9.221942   6.720162\n",
       "1024  36.091325  19.807188\n",
       "1025  77.619137  50.570437\n",
       "1026  46.785876  31.300900\n",
       "1027  84.080830  51.053419\n",
       "1028  24.075852  20.981299\n",
       "\n",
       "[1029 rows x 2 columns]"
      ]
     },
     "execution_count": 6,
     "metadata": {},
     "output_type": "execute_result"
    }
   ],
   "source": [
    "base = pd.read_csv(\"regLin.csv\")\n",
    "base"
   ]
  },
  {
   "cell_type": "markdown",
   "metadata": {},
   "source": [
    "## Describo los Datos"
   ]
  },
  {
   "cell_type": "code",
   "execution_count": 7,
   "metadata": {
    "collapsed": false
   },
   "outputs": [
    {
     "data": {
      "text/html": [
       "<div>\n",
       "<table border=\"1\" class=\"dataframe\">\n",
       "  <thead>\n",
       "    <tr style=\"text-align: right;\">\n",
       "      <th></th>\n",
       "      <th>X</th>\n",
       "      <th>y</th>\n",
       "    </tr>\n",
       "  </thead>\n",
       "  <tbody>\n",
       "    <tr>\n",
       "      <th>count</th>\n",
       "      <td>1029.000000</td>\n",
       "      <td>1029.000000</td>\n",
       "    </tr>\n",
       "    <tr>\n",
       "      <th>mean</th>\n",
       "      <td>50.008111</td>\n",
       "      <td>32.893917</td>\n",
       "    </tr>\n",
       "    <tr>\n",
       "      <th>std</th>\n",
       "      <td>29.055066</td>\n",
       "      <td>18.083566</td>\n",
       "    </tr>\n",
       "    <tr>\n",
       "      <th>min</th>\n",
       "      <td>0.030369</td>\n",
       "      <td>-4.586608</td>\n",
       "    </tr>\n",
       "    <tr>\n",
       "      <th>25%</th>\n",
       "      <td>25.201087</td>\n",
       "      <td>17.583093</td>\n",
       "    </tr>\n",
       "    <tr>\n",
       "      <th>50%</th>\n",
       "      <td>50.884987</td>\n",
       "      <td>33.564129</td>\n",
       "    </tr>\n",
       "    <tr>\n",
       "      <th>75%</th>\n",
       "      <td>75.636823</td>\n",
       "      <td>48.339811</td>\n",
       "    </tr>\n",
       "    <tr>\n",
       "      <th>max</th>\n",
       "      <td>99.959580</td>\n",
       "      <td>71.762748</td>\n",
       "    </tr>\n",
       "  </tbody>\n",
       "</table>\n",
       "</div>"
      ],
      "text/plain": [
       "                 X            y\n",
       "count  1029.000000  1029.000000\n",
       "mean     50.008111    32.893917\n",
       "std      29.055066    18.083566\n",
       "min       0.030369    -4.586608\n",
       "25%      25.201087    17.583093\n",
       "50%      50.884987    33.564129\n",
       "75%      75.636823    48.339811\n",
       "max      99.959580    71.762748"
      ]
     },
     "execution_count": 7,
     "metadata": {},
     "output_type": "execute_result"
    }
   ],
   "source": [
    "base.describe()"
   ]
  },
  {
   "cell_type": "markdown",
   "metadata": {},
   "source": [
    "## Divido los datos en entrenamiento (75%) y prueba  (25%)"
   ]
  },
  {
   "cell_type": "code",
   "execution_count": 8,
   "metadata": {
    "collapsed": true
   },
   "outputs": [],
   "source": [
    "X_train, X_test, Y_train, Y_test = train_test_split(base[[\"X\"]],base[[\"y\"]],train_size=0.75)"
   ]
  },
  {
   "cell_type": "code",
   "execution_count": 9,
   "metadata": {
    "collapsed": false
   },
   "outputs": [
    {
     "data": {
      "text/html": [
       "<div>\n",
       "<table border=\"1\" class=\"dataframe\">\n",
       "  <thead>\n",
       "    <tr style=\"text-align: right;\">\n",
       "      <th></th>\n",
       "      <th>y</th>\n",
       "    </tr>\n",
       "  </thead>\n",
       "  <tbody>\n",
       "    <tr>\n",
       "      <th>126</th>\n",
       "      <td>50.785602</td>\n",
       "    </tr>\n",
       "    <tr>\n",
       "      <th>593</th>\n",
       "      <td>38.011735</td>\n",
       "    </tr>\n",
       "    <tr>\n",
       "      <th>97</th>\n",
       "      <td>39.168495</td>\n",
       "    </tr>\n",
       "    <tr>\n",
       "      <th>690</th>\n",
       "      <td>41.725227</td>\n",
       "    </tr>\n",
       "    <tr>\n",
       "      <th>1013</th>\n",
       "      <td>55.690169</td>\n",
       "    </tr>\n",
       "    <tr>\n",
       "      <th>943</th>\n",
       "      <td>6.958857</td>\n",
       "    </tr>\n",
       "    <tr>\n",
       "      <th>156</th>\n",
       "      <td>14.843095</td>\n",
       "    </tr>\n",
       "    <tr>\n",
       "      <th>181</th>\n",
       "      <td>61.348851</td>\n",
       "    </tr>\n",
       "    <tr>\n",
       "      <th>32</th>\n",
       "      <td>56.109347</td>\n",
       "    </tr>\n",
       "    <tr>\n",
       "      <th>944</th>\n",
       "      <td>37.497846</td>\n",
       "    </tr>\n",
       "    <tr>\n",
       "      <th>852</th>\n",
       "      <td>47.658796</td>\n",
       "    </tr>\n",
       "    <tr>\n",
       "      <th>184</th>\n",
       "      <td>3.381923</td>\n",
       "    </tr>\n",
       "    <tr>\n",
       "      <th>643</th>\n",
       "      <td>39.467977</td>\n",
       "    </tr>\n",
       "    <tr>\n",
       "      <th>355</th>\n",
       "      <td>36.250857</td>\n",
       "    </tr>\n",
       "    <tr>\n",
       "      <th>899</th>\n",
       "      <td>21.993972</td>\n",
       "    </tr>\n",
       "    <tr>\n",
       "      <th>255</th>\n",
       "      <td>43.316431</td>\n",
       "    </tr>\n",
       "    <tr>\n",
       "      <th>902</th>\n",
       "      <td>47.183458</td>\n",
       "    </tr>\n",
       "    <tr>\n",
       "      <th>28</th>\n",
       "      <td>44.008360</td>\n",
       "    </tr>\n",
       "    <tr>\n",
       "      <th>1004</th>\n",
       "      <td>37.364507</td>\n",
       "    </tr>\n",
       "    <tr>\n",
       "      <th>521</th>\n",
       "      <td>55.296838</td>\n",
       "    </tr>\n",
       "    <tr>\n",
       "      <th>173</th>\n",
       "      <td>52.650923</td>\n",
       "    </tr>\n",
       "    <tr>\n",
       "      <th>612</th>\n",
       "      <td>5.150236</td>\n",
       "    </tr>\n",
       "    <tr>\n",
       "      <th>333</th>\n",
       "      <td>55.754268</td>\n",
       "    </tr>\n",
       "    <tr>\n",
       "      <th>642</th>\n",
       "      <td>47.353327</td>\n",
       "    </tr>\n",
       "    <tr>\n",
       "      <th>514</th>\n",
       "      <td>57.754683</td>\n",
       "    </tr>\n",
       "    <tr>\n",
       "      <th>27</th>\n",
       "      <td>14.286040</td>\n",
       "    </tr>\n",
       "    <tr>\n",
       "      <th>436</th>\n",
       "      <td>25.929908</td>\n",
       "    </tr>\n",
       "    <tr>\n",
       "      <th>81</th>\n",
       "      <td>23.166382</td>\n",
       "    </tr>\n",
       "    <tr>\n",
       "      <th>561</th>\n",
       "      <td>24.820863</td>\n",
       "    </tr>\n",
       "    <tr>\n",
       "      <th>353</th>\n",
       "      <td>45.679895</td>\n",
       "    </tr>\n",
       "    <tr>\n",
       "      <th>...</th>\n",
       "      <td>...</td>\n",
       "    </tr>\n",
       "    <tr>\n",
       "      <th>600</th>\n",
       "      <td>57.920493</td>\n",
       "    </tr>\n",
       "    <tr>\n",
       "      <th>349</th>\n",
       "      <td>22.225559</td>\n",
       "    </tr>\n",
       "    <tr>\n",
       "      <th>291</th>\n",
       "      <td>0.997631</td>\n",
       "    </tr>\n",
       "    <tr>\n",
       "      <th>537</th>\n",
       "      <td>10.906934</td>\n",
       "    </tr>\n",
       "    <tr>\n",
       "      <th>420</th>\n",
       "      <td>50.210969</td>\n",
       "    </tr>\n",
       "    <tr>\n",
       "      <th>876</th>\n",
       "      <td>16.691345</td>\n",
       "    </tr>\n",
       "    <tr>\n",
       "      <th>359</th>\n",
       "      <td>23.424230</td>\n",
       "    </tr>\n",
       "    <tr>\n",
       "      <th>460</th>\n",
       "      <td>16.843964</td>\n",
       "    </tr>\n",
       "    <tr>\n",
       "      <th>626</th>\n",
       "      <td>31.913174</td>\n",
       "    </tr>\n",
       "    <tr>\n",
       "      <th>422</th>\n",
       "      <td>47.491969</td>\n",
       "    </tr>\n",
       "    <tr>\n",
       "      <th>764</th>\n",
       "      <td>55.252092</td>\n",
       "    </tr>\n",
       "    <tr>\n",
       "      <th>429</th>\n",
       "      <td>57.074167</td>\n",
       "    </tr>\n",
       "    <tr>\n",
       "      <th>19</th>\n",
       "      <td>30.568120</td>\n",
       "    </tr>\n",
       "    <tr>\n",
       "      <th>533</th>\n",
       "      <td>50.138510</td>\n",
       "    </tr>\n",
       "    <tr>\n",
       "      <th>347</th>\n",
       "      <td>37.943854</td>\n",
       "    </tr>\n",
       "    <tr>\n",
       "      <th>271</th>\n",
       "      <td>16.643027</td>\n",
       "    </tr>\n",
       "    <tr>\n",
       "      <th>438</th>\n",
       "      <td>61.039635</td>\n",
       "    </tr>\n",
       "    <tr>\n",
       "      <th>688</th>\n",
       "      <td>11.260690</td>\n",
       "    </tr>\n",
       "    <tr>\n",
       "      <th>644</th>\n",
       "      <td>11.841737</td>\n",
       "    </tr>\n",
       "    <tr>\n",
       "      <th>618</th>\n",
       "      <td>0.501851</td>\n",
       "    </tr>\n",
       "    <tr>\n",
       "      <th>939</th>\n",
       "      <td>2.229578</td>\n",
       "    </tr>\n",
       "    <tr>\n",
       "      <th>220</th>\n",
       "      <td>47.937323</td>\n",
       "    </tr>\n",
       "    <tr>\n",
       "      <th>841</th>\n",
       "      <td>8.209886</td>\n",
       "    </tr>\n",
       "    <tr>\n",
       "      <th>229</th>\n",
       "      <td>18.650124</td>\n",
       "    </tr>\n",
       "    <tr>\n",
       "      <th>182</th>\n",
       "      <td>29.013820</td>\n",
       "    </tr>\n",
       "    <tr>\n",
       "      <th>493</th>\n",
       "      <td>59.663684</td>\n",
       "    </tr>\n",
       "    <tr>\n",
       "      <th>538</th>\n",
       "      <td>32.754272</td>\n",
       "    </tr>\n",
       "    <tr>\n",
       "      <th>330</th>\n",
       "      <td>5.495998</td>\n",
       "    </tr>\n",
       "    <tr>\n",
       "      <th>486</th>\n",
       "      <td>1.755146</td>\n",
       "    </tr>\n",
       "    <tr>\n",
       "      <th>838</th>\n",
       "      <td>52.776076</td>\n",
       "    </tr>\n",
       "  </tbody>\n",
       "</table>\n",
       "<p>258 rows × 1 columns</p>\n",
       "</div>"
      ],
      "text/plain": [
       "              y\n",
       "126   50.785602\n",
       "593   38.011735\n",
       "97    39.168495\n",
       "690   41.725227\n",
       "1013  55.690169\n",
       "943    6.958857\n",
       "156   14.843095\n",
       "181   61.348851\n",
       "32    56.109347\n",
       "944   37.497846\n",
       "852   47.658796\n",
       "184    3.381923\n",
       "643   39.467977\n",
       "355   36.250857\n",
       "899   21.993972\n",
       "255   43.316431\n",
       "902   47.183458\n",
       "28    44.008360\n",
       "1004  37.364507\n",
       "521   55.296838\n",
       "173   52.650923\n",
       "612    5.150236\n",
       "333   55.754268\n",
       "642   47.353327\n",
       "514   57.754683\n",
       "27    14.286040\n",
       "436   25.929908\n",
       "81    23.166382\n",
       "561   24.820863\n",
       "353   45.679895\n",
       "...         ...\n",
       "600   57.920493\n",
       "349   22.225559\n",
       "291    0.997631\n",
       "537   10.906934\n",
       "420   50.210969\n",
       "876   16.691345\n",
       "359   23.424230\n",
       "460   16.843964\n",
       "626   31.913174\n",
       "422   47.491969\n",
       "764   55.252092\n",
       "429   57.074167\n",
       "19    30.568120\n",
       "533   50.138510\n",
       "347   37.943854\n",
       "271   16.643027\n",
       "438   61.039635\n",
       "688   11.260690\n",
       "644   11.841737\n",
       "618    0.501851\n",
       "939    2.229578\n",
       "220   47.937323\n",
       "841    8.209886\n",
       "229   18.650124\n",
       "182   29.013820\n",
       "493   59.663684\n",
       "538   32.754272\n",
       "330    5.495998\n",
       "486    1.755146\n",
       "838   52.776076\n",
       "\n",
       "[258 rows x 1 columns]"
      ]
     },
     "execution_count": 9,
     "metadata": {},
     "output_type": "execute_result"
    }
   ],
   "source": [
    "Y_test"
   ]
  },
  {
   "cell_type": "markdown",
   "metadata": {},
   "source": [
    "## Grafico los datos de entrenamiento X contra y"
   ]
  },
  {
   "cell_type": "code",
   "execution_count": 10,
   "metadata": {
    "collapsed": false
   },
   "outputs": [
    {
     "data": {
      "text/plain": [
       "<matplotlib.collections.PathCollection at 0xce4db00>"
      ]
     },
     "execution_count": 10,
     "metadata": {},
     "output_type": "execute_result"
    },
    {
     "data": {
      "image/png": "[encoded data removed]",
      "text/plain": [
       "<matplotlib.figure.Figure at 0xce4dd68>"
      ]
     },
     "metadata": {},
     "output_type": "display_data"
    }
   ],
   "source": [
    "plt.scatter(X_train,Y_train)"
   ]
  },
  {
   "cell_type": "markdown",
   "metadata": {},
   "source": [
    "## Eligo el modelo para el conjunto de entrenamiento, en este caso el Modelo de Regresión Lineal (MRL)"
   ]
  },
  {
   "cell_type": "code",
   "execution_count": 12,
   "metadata": {
    "collapsed": true
   },
   "outputs": [],
   "source": [
    "MRL = LinearRegression()"
   ]
  },
  {
   "cell_type": "markdown",
   "metadata": {},
   "source": [
    "### Hago la regresión con el MRL"
   ]
  },
  {
   "cell_type": "code",
   "execution_count": 13,
   "metadata": {
    "collapsed": true
   },
   "outputs": [],
   "source": [
    "Model = MRL.fit(X_train,Y_train)"
   ]
  },
  {
   "cell_type": "markdown",
   "metadata": {},
   "source": [
    "## Grafico cómo se ven los datos de prueba"
   ]
  },
  {
   "cell_type": "code",
   "execution_count": 14,
   "metadata": {
    "collapsed": false
   },
   "outputs": [
    {
     "data": {
      "text/plain": [
       "<matplotlib.collections.PathCollection at 0xd174d68>"
      ]
     },
     "execution_count": 14,
     "metadata": {},
     "output_type": "execute_result"
    },
    {
     "data": {
      "image/png": "[encoded data removed]",
      "text/plain": [
       "<matplotlib.figure.Figure at 0xbc38f60>"
      ]
     },
     "metadata": {},
     "output_type": "display_data"
    }
   ],
   "source": [
    "plt.scatter(X_test,Y_test)"
   ]
  },
  {
   "cell_type": "markdown",
   "metadata": {},
   "source": [
    "### Grafico la \"y\" predecida con el conjunto de entrenamiento sobre el scatter plot de los datos de prueba"
   ]
  },
  {
   "cell_type": "code",
   "execution_count": 16,
   "metadata": {
    "collapsed": false
   },
   "outputs": [
    {
     "data": {
      "text/plain": [
       "[<matplotlib.lines.Line2D at 0xd448470>]"
      ]
     },
     "execution_count": 16,
     "metadata": {},
     "output_type": "execute_result"
    },
    {
     "data": {
      "image/png": "[encoded data removed]",
      "text/plain": [
       "<matplotlib.figure.Figure at 0xd448d30>"
      ]
     },
     "metadata": {},
     "output_type": "display_data"
    }
   ],
   "source": [
    "plt.scatter(X_test,Y_test)\n",
    "plt.plot(X_test, MRL.predict(X_test), color = 'red', linewidth = 3)"
   ]
  },
  {
   "cell_type": "markdown",
   "metadata": {},
   "source": [
    "## Cuales son los parámetros aprendidos con el MRL en el conjunto de entremamiento (75% de los datos)"
   ]
  },
  {
   "cell_type": "code",
   "execution_count": 25,
   "metadata": {
    "collapsed": false
   },
   "outputs": [
    {
     "name": "stdout",
     "output_type": "stream",
     "text": [
      "El intercepto al origen: \n",
      "[ 2.36584994]\n"
     ]
    }
   ],
   "source": [
    "print(\"El intercepto al origen: \")\n",
    "print(Model.intercept_)"
   ]
  },
  {
   "cell_type": "code",
   "execution_count": 26,
   "metadata": {
    "collapsed": false
   },
   "outputs": [
    {
     "name": "stdout",
     "output_type": "stream",
     "text": [
      "El coeficiente asociado a la variable X: \n",
      "[[ 0.61094491]]\n"
     ]
    }
   ],
   "source": [
    "print(\"El coeficiente asociado a la variable X: \")\n",
    "print(Model.coef_)"
   ]
  },
  {
   "cell_type": "markdown",
   "metadata": {},
   "source": [
    "## Qué pasa cuando acutalizamos los coeficientes con base en la siguiente regla:\n",
    "$ \\mathbf w_{i} = w_{i} + \\nu(y - \\overrightarrow{y})x_{i} $\n"
   ]
  },
  {
   "cell_type": "markdown",
   "metadata": {},
   "source": [
    "Empecemos con los coeficientes (pesos) ya predecidos por el MRL, primero es necesario convertirlos en valores (antes estaban declarados como listas)"
   ]
  },
  {
   "cell_type": "code",
   "execution_count": 27,
   "metadata": {
    "collapsed": false
   },
   "outputs": [
    {
     "data": {
      "text/plain": [
       "2.365849939331472"
      ]
     },
     "execution_count": 27,
     "metadata": {},
     "output_type": "execute_result"
    }
   ],
   "source": [
    "w0 = MRL.intercept_[0]\n",
    "w0"
   ]
  },
  {
   "cell_type": "code",
   "execution_count": 28,
   "metadata": {
    "collapsed": false
   },
   "outputs": [
    {
     "data": {
      "text/plain": [
       "0.61094491055917721"
      ]
     },
     "execution_count": 28,
     "metadata": {},
     "output_type": "execute_result"
    }
   ],
   "source": [
    "w1 = MRL.coef_[0][0]\n",
    "w1"
   ]
  },
  {
   "cell_type": "markdown",
   "metadata": {},
   "source": [
    "Genero un vector (dependiente del coeficiente w1 encontrado por el MRL) con 200 valores para hacer la simulación"
   ]
  },
  {
   "cell_type": "code",
   "execution_count": 35,
   "metadata": {
    "collapsed": false
   },
   "outputs": [
    {
     "data": {
      "text/plain": [
       "array([-99.38905509, -98.38905509, -97.38905509, -96.38905509,\n",
       "       -95.38905509, -94.38905509, -93.38905509, -92.38905509,\n",
       "       -91.38905509, -90.38905509, -89.38905509, -88.38905509,\n",
       "       -87.38905509, -86.38905509, -85.38905509, -84.38905509,\n",
       "       -83.38905509, -82.38905509, -81.38905509, -80.38905509,\n",
       "       -79.38905509, -78.38905509, -77.38905509, -76.38905509,\n",
       "       -75.38905509, -74.38905509, -73.38905509, -72.38905509,\n",
       "       -71.38905509, -70.38905509, -69.38905509, -68.38905509,\n",
       "       -67.38905509, -66.38905509, -65.38905509, -64.38905509,\n",
       "       -63.38905509, -62.38905509, -61.38905509, -60.38905509,\n",
       "       -59.38905509, -58.38905509, -57.38905509, -56.38905509,\n",
       "       -55.38905509, -54.38905509, -53.38905509, -52.38905509,\n",
       "       -51.38905509, -50.38905509, -49.38905509, -48.38905509,\n",
       "       -47.38905509, -46.38905509, -45.38905509, -44.38905509,\n",
       "       -43.38905509, -42.38905509, -41.38905509, -40.38905509,\n",
       "       -39.38905509, -38.38905509, -37.38905509, -36.38905509,\n",
       "       -35.38905509, -34.38905509, -33.38905509, -32.38905509,\n",
       "       -31.38905509, -30.38905509, -29.38905509, -28.38905509,\n",
       "       -27.38905509, -26.38905509, -25.38905509, -24.38905509,\n",
       "       -23.38905509, -22.38905509, -21.38905509, -20.38905509,\n",
       "       -19.38905509, -18.38905509, -17.38905509, -16.38905509,\n",
       "       -15.38905509, -14.38905509, -13.38905509, -12.38905509,\n",
       "       -11.38905509, -10.38905509,  -9.38905509,  -8.38905509,\n",
       "        -7.38905509,  -6.38905509,  -5.38905509,  -4.38905509,\n",
       "        -3.38905509,  -2.38905509,  -1.38905509,  -0.38905509,\n",
       "         0.61094491,   1.61094491,   2.61094491,   3.61094491,\n",
       "         4.61094491,   5.61094491,   6.61094491,   7.61094491,\n",
       "         8.61094491,   9.61094491,  10.61094491,  11.61094491,\n",
       "        12.61094491,  13.61094491,  14.61094491,  15.61094491,\n",
       "        16.61094491,  17.61094491,  18.61094491,  19.61094491,\n",
       "        20.61094491,  21.61094491,  22.61094491,  23.61094491,\n",
       "        24.61094491,  25.61094491,  26.61094491,  27.61094491,\n",
       "        28.61094491,  29.61094491,  30.61094491,  31.61094491,\n",
       "        32.61094491,  33.61094491,  34.61094491,  35.61094491,\n",
       "        36.61094491,  37.61094491,  38.61094491,  39.61094491,\n",
       "        40.61094491,  41.61094491,  42.61094491,  43.61094491,\n",
       "        44.61094491,  45.61094491,  46.61094491,  47.61094491,\n",
       "        48.61094491,  49.61094491,  50.61094491,  51.61094491,\n",
       "        52.61094491,  53.61094491,  54.61094491,  55.61094491,\n",
       "        56.61094491,  57.61094491,  58.61094491,  59.61094491,\n",
       "        60.61094491,  61.61094491,  62.61094491,  63.61094491,\n",
       "        64.61094491,  65.61094491,  66.61094491,  67.61094491,\n",
       "        68.61094491,  69.61094491,  70.61094491,  71.61094491,\n",
       "        72.61094491,  73.61094491,  74.61094491,  75.61094491,\n",
       "        76.61094491,  77.61094491,  78.61094491,  79.61094491,\n",
       "        80.61094491,  81.61094491,  82.61094491,  83.61094491,\n",
       "        84.61094491,  85.61094491,  86.61094491,  87.61094491,\n",
       "        88.61094491,  89.61094491,  90.61094491,  91.61094491,\n",
       "        92.61094491,  93.61094491,  94.61094491,  95.61094491,\n",
       "        96.61094491,  97.61094491,  98.61094491,  99.61094491])"
      ]
     },
     "execution_count": 35,
     "metadata": {},
     "output_type": "execute_result"
    }
   ],
   "source": [
    "W = range(-100,100,1)+w1\n",
    "W"
   ]
  },
  {
   "cell_type": "code",
   "execution_count": 31,
   "metadata": {
    "collapsed": false
   },
   "outputs": [
    {
     "name": "stdout",
     "output_type": "stream",
     "text": [
      "[-99.38905509 -98.38905509 -97.38905509 -96.38905509 -95.38905509\n",
      " -94.38905509 -93.38905509 -92.38905509 -91.38905509 -90.38905509\n",
      " -89.38905509 -88.38905509 -87.38905509 -86.38905509 -85.38905509\n",
      " -84.38905509 -83.38905509 -82.38905509 -81.38905509 -80.38905509\n",
      " -79.38905509 -78.38905509 -77.38905509 -76.38905509 -75.38905509\n",
      " -74.38905509 -73.38905509 -72.38905509 -71.38905509 -70.38905509\n",
      " -69.38905509 -68.38905509 -67.38905509 -66.38905509 -65.38905509\n",
      " -64.38905509 -63.38905509 -62.38905509 -61.38905509 -60.38905509\n",
      " -59.38905509 -58.38905509 -57.38905509 -56.38905509 -55.38905509\n",
      " -54.38905509 -53.38905509 -52.38905509 -51.38905509 -50.38905509\n",
      " -49.38905509 -48.38905509 -47.38905509 -46.38905509 -45.38905509\n",
      " -44.38905509 -43.38905509 -42.38905509 -41.38905509 -40.38905509\n",
      " -39.38905509 -38.38905509 -37.38905509 -36.38905509 -35.38905509\n",
      " -34.38905509 -33.38905509 -32.38905509 -31.38905509 -30.38905509\n",
      " -29.38905509 -28.38905509 -27.38905509 -26.38905509 -25.38905509\n",
      " -24.38905509 -23.38905509 -22.38905509 -21.38905509 -20.38905509\n",
      " -19.38905509 -18.38905509 -17.38905509 -16.38905509 -15.38905509\n",
      " -14.38905509 -13.38905509 -12.38905509 -11.38905509 -10.38905509\n",
      "  -9.38905509  -8.38905509  -7.38905509  -6.38905509  -5.38905509\n",
      "  -4.38905509  -3.38905509  -2.38905509  -1.38905509  -0.38905509\n",
      "   0.61094491   1.61094491   2.61094491   3.61094491   4.61094491\n",
      "   5.61094491   6.61094491   7.61094491   8.61094491   9.61094491\n",
      "  10.61094491  11.61094491  12.61094491  13.61094491  14.61094491\n",
      "  15.61094491  16.61094491  17.61094491  18.61094491  19.61094491\n",
      "  20.61094491  21.61094491  22.61094491  23.61094491  24.61094491\n",
      "  25.61094491  26.61094491  27.61094491  28.61094491  29.61094491\n",
      "  30.61094491  31.61094491  32.61094491  33.61094491  34.61094491\n",
      "  35.61094491  36.61094491  37.61094491  38.61094491  39.61094491\n",
      "  40.61094491  41.61094491  42.61094491  43.61094491  44.61094491\n",
      "  45.61094491  46.61094491  47.61094491  48.61094491  49.61094491\n",
      "  50.61094491  51.61094491  52.61094491  53.61094491  54.61094491\n",
      "  55.61094491  56.61094491  57.61094491  58.61094491  59.61094491\n",
      "  60.61094491  61.61094491  62.61094491  63.61094491  64.61094491\n",
      "  65.61094491  66.61094491  67.61094491  68.61094491  69.61094491\n",
      "  70.61094491  71.61094491  72.61094491  73.61094491  74.61094491\n",
      "  75.61094491  76.61094491  77.61094491  78.61094491  79.61094491\n",
      "  80.61094491  81.61094491  82.61094491  83.61094491  84.61094491\n",
      "  85.61094491  86.61094491  87.61094491  88.61094491  89.61094491\n",
      "  90.61094491  91.61094491  92.61094491  93.61094491  94.61094491\n",
      "  95.61094491  96.61094491  97.61094491  98.61094491  99.61094491]\n"
     ]
    }
   ],
   "source": [
    "print(W)"
   ]
  },
  {
   "cell_type": "markdown",
   "metadata": {},
   "source": [
    "Declaro el error como una lista vacia"
   ]
  },
  {
   "cell_type": "code",
   "execution_count": 39,
   "metadata": {
    "collapsed": true
   },
   "outputs": [],
   "source": [
    "error = []"
   ]
  },
  {
   "cell_type": "code",
   "execution_count": 42,
   "metadata": {
    "collapsed": false
   },
   "outputs": [
    {
     "data": {
      "text/plain": [
       "<matplotlib.collections.PathCollection at 0xf6ba898>"
      ]
     },
     "execution_count": 42,
     "metadata": {},
     "output_type": "execute_result"
    },
    {
     "data": {
      "image/png": "[encoded data removed]",
      "text/plain": [
       "<matplotlib.figure.Figure at 0xf4936d8>"
      ]
     },
     "metadata": {},
     "output_type": "display_data"
    }
   ],
   "source": [
    "# Siempre se tiene que tener una lista vacia para recibir los errores cuadraticos medios predecidos\n",
    "error = []\n",
    "for i in W:\n",
    "    y_pred = i*X_test + w0\n",
    "    errorprediccion = np.subtract(y_pred,Y_test)\n",
    "    errorprediccioncuadratico = errorprediccion**2\n",
    "    error.append(np.mean(errorprediccioncuadratico))\n",
    "# Grafico la función convexa para que relacióna los valores de W postulados con el error cuadrático medio de la prediccion    \n",
    "plt.plot(W,error)\n",
    "# Grafico el punto \"optimizado\" que encontre con el MRL\n",
    "plt.scatter(w0,np.mean(((w1*base['X']+w0)-base['y'])**2),color = 'red')\n",
    "# Efectivamente es el minimo"
   ]
  },
  {
   "cell_type": "markdown",
   "metadata": {},
   "source": [
    "## Repito el Ejercicio con el archivo 2"
   ]
  },
  {
   "cell_type": "code",
   "execution_count": 44,
   "metadata": {
    "collapsed": false
   },
   "outputs": [
    {
     "data": {
      "text/html": [
       "<div>\n",
       "<table border=\"1\" class=\"dataframe\">\n",
       "  <thead>\n",
       "    <tr style=\"text-align: right;\">\n",
       "      <th></th>\n",
       "      <th>X</th>\n",
       "      <th>y</th>\n",
       "    </tr>\n",
       "  </thead>\n",
       "  <tbody>\n",
       "    <tr>\n",
       "      <th>count</th>\n",
       "      <td>1029.000000</td>\n",
       "      <td>1029.000000</td>\n",
       "    </tr>\n",
       "    <tr>\n",
       "      <th>mean</th>\n",
       "      <td>50.757989</td>\n",
       "      <td>2137.739358</td>\n",
       "    </tr>\n",
       "    <tr>\n",
       "      <th>std</th>\n",
       "      <td>29.708336</td>\n",
       "      <td>1870.369352</td>\n",
       "    </tr>\n",
       "    <tr>\n",
       "      <th>min</th>\n",
       "      <td>0.230225</td>\n",
       "      <td>0.272241</td>\n",
       "    </tr>\n",
       "    <tr>\n",
       "      <th>25%</th>\n",
       "      <td>22.870956</td>\n",
       "      <td>342.135840</td>\n",
       "    </tr>\n",
       "    <tr>\n",
       "      <th>50%</th>\n",
       "      <td>53.951080</td>\n",
       "      <td>1774.199681</td>\n",
       "    </tr>\n",
       "    <tr>\n",
       "      <th>75%</th>\n",
       "      <td>76.256816</td>\n",
       "      <td>3658.103897</td>\n",
       "    </tr>\n",
       "    <tr>\n",
       "      <th>max</th>\n",
       "      <td>99.831593</td>\n",
       "      <td>7133.608688</td>\n",
       "    </tr>\n",
       "  </tbody>\n",
       "</table>\n",
       "</div>"
      ],
      "text/plain": [
       "                 X            y\n",
       "count  1029.000000  1029.000000\n",
       "mean     50.757989  2137.739358\n",
       "std      29.708336  1870.369352\n",
       "min       0.230225     0.272241\n",
       "25%      22.870956   342.135840\n",
       "50%      53.951080  1774.199681\n",
       "75%      76.256816  3658.103897\n",
       "max      99.831593  7133.608688"
      ]
     },
     "execution_count": 44,
     "metadata": {},
     "output_type": "execute_result"
    }
   ],
   "source": [
    "base2 = pd.read_csv(\"regLin2.csv\")\n",
    "base2.describe()"
   ]
  },
  {
   "cell_type": "code",
   "execution_count": 46,
   "metadata": {
    "collapsed": false
   },
   "outputs": [],
   "source": [
    "X2_train, X2_test, Y2_train, Y2_test = train_test_split(base2[[\"X\"]],base2[[\"y\"]],train_size=0.75)\n",
    "MRL2=LinearRegression()"
   ]
  },
  {
   "cell_type": "code",
   "execution_count": 47,
   "metadata": {
    "collapsed": false
   },
   "outputs": [
    {
     "data": {
      "text/plain": [
       "[<matplotlib.lines.Line2D at 0xf487ac8>]"
      ]
     },
     "execution_count": 47,
     "metadata": {},
     "output_type": "execute_result"
    },
    {
     "data": {
      "image/png": "[encoded data removed]",
      "text/plain": [
       "<matplotlib.figure.Figure at 0xf487da0>"
      ]
     },
     "metadata": {},
     "output_type": "display_data"
    }
   ],
   "source": [
    "plt.scatter(X2_test,Y2_test)\n",
    "plt.plot(X2_test,MRL.predict(X2_test),color='red',linewidth=3)"
   ]
  },
  {
   "cell_type": "markdown",
   "metadata": {},
   "source": [
    "Los datos no parecen comportarse de forma lineal, por la vizualizacion se observa una posible relacion cuadratica, por lo que transformamos los datos para poder aplicar el MRL con $ \\mathbf X^{2} $"
   ]
  },
  {
   "cell_type": "code",
   "execution_count": 48,
   "metadata": {
    "collapsed": false
   },
   "outputs": [
    {
     "name": "stdout",
     "output_type": "stream",
     "text": [
      "(              X\n",
      "868   83.167268\n",
      "393   85.544475\n",
      "129   23.356668\n",
      "633   18.526139\n",
      "561   25.201203\n",
      "797   97.973612\n",
      "538   60.489073\n",
      "568   10.171327\n",
      "805   44.856660\n",
      "305    8.626674\n",
      "288   18.588314\n",
      "344   70.030989\n",
      "820   86.633393\n",
      "422   46.605646\n",
      "175   21.976369\n",
      "70    77.370760\n",
      "584   38.573270\n",
      "627   84.340545\n",
      "582   39.114479\n",
      "576   53.691933\n",
      "591   18.303097\n",
      "536   42.138412\n",
      "752    7.362781\n",
      "471   94.223203\n",
      "606   92.920981\n",
      "835   20.968549\n",
      "753   52.688683\n",
      "714   76.757970\n",
      "206   57.682313\n",
      "815   74.370664\n",
      "...         ...\n",
      "550    1.901176\n",
      "43    31.676831\n",
      "673    8.017877\n",
      "722   65.878382\n",
      "786   85.297017\n",
      "492    2.008580\n",
      "977   63.150621\n",
      "406   87.173224\n",
      "319   81.287231\n",
      "610   84.344969\n",
      "376   48.421188\n",
      "397    9.060243\n",
      "328    9.455189\n",
      "653   89.943215\n",
      "121   81.155791\n",
      "824   84.330480\n",
      "47    29.170694\n",
      "85    91.314119\n",
      "577   66.800831\n",
      "686   92.163627\n",
      "3     63.938261\n",
      "906   31.400153\n",
      "1014  43.069822\n",
      "969   63.092401\n",
      "543   96.940143\n",
      "808   73.282963\n",
      "928   34.404901\n",
      "632    2.656099\n",
      "163   66.294430\n",
      "427    8.009052\n",
      "\n",
      "[771 rows x 1 columns], [[6916.7945331176379], [7317.8572184236318], [545.5339559447583], [343.21784032718676], [635.10061299027075], [9598.8286581239045], [3658.9279911123363], [103.45589680603328], [2012.1199696810631], [74.419496331229439], [345.52542405438913], [4904.3393825013873], [7505.3447029897279], [2172.086263312252], [482.96078123833979], [5986.2345586845477], [1487.8971322630766], [7113.3276152375684], [1529.9424893455491], [2882.823654242748], [335.00335759503736], [1775.6457675672802], [54.21054177149891], [8878.0119402365362], [8634.3087676133691], [439.68005848841756], [2776.0973141669419], [5891.7859815482916], [3327.2492191862138], [5530.99566082607], [10.603997802626361], [8307.6953487915271], [4074.1547663763254], [6998.3841206647203], [269.47001258754722], [566.73694866765391], [6357.8726578293763], [403.68564308812813], [3388.8728533999692], [3459.1939206196735], [899.37535122265524], [168.16772875865399], [163.91335579302722], [2036.872652925792], [1066.7999944620726], [7680.4828077883831], [2468.2608419987487], [8885.1290118368015], [7562.5338085659259], [7729.6845673810776], [5614.051236488006], [949.14378731590818], [3763.6936980039545], [7605.7853541041459], [4528.1006232758618], [3898.8991390078036], [1920.3985681168915], [7552.9129670171606], [9471.4707788727101], [8891.4836984766534], [24.110132959616458], [23.420433391310414], [7503.9645509570737], [3151.5083619910606], [7101.026094086541], [6553.5693830661594], [3062.6293646012959], [1037.5680860536338], [4856.1710948173331], [1099.8193426701494], [4870.5470756335926], [190.5518408515436], [1168.5655501690585], [3956.8500606360039], [360.33043915343518], [271.82482286121888], [262.71446667562219], [5869.0724939851734], [5357.1513136413987], [392.44907922311523], [2276.1488107684822], [2073.9728186527645], [220.64807046257255], [1209.4288271306075], [115.35651995724088], [4770.6172210981294], [5806.6560472976462], [6205.958325642373], [1.2180535952958598], [4418.9849488186037], [8716.2134331438356], [7864.0623345789882], [8240.7394337638361], [121.12756320289026], [4956.4198399496108], [7.0032064617481256], [3003.6565469861998], [862.83986222159956], [626.11982515448688], [4332.969020807559], [5798.4641421136557], [4706.8356113382215], [7801.6186731384096], [131.8330321311492], [1530.5057662141737], [4565.6806964580765], [1526.5511740301924], [7584.3792739900928], [2951.3970607123624], [5753.1052789730957], [951.83739688852813], [1.6415043503767157], [4895.3809042871226], [2151.214864664124], [197.7119305089555], [1780.4644575246311], [3358.7859844867667], [144.53613947053222], [2089.0484246011797], [829.12519749140699], [331.07818718647133], [253.06241728085837], [5877.7350688998049], [5033.5211807705282], [4988.3427312943531], [6273.0831524187342], [1334.7533096918364], [5884.764898314419], [4487.7290128775558], [171.09453193262772], [6966.0884373060262], [634.6287391021649], [5170.5448357284504], [4010.6499103469596], [5759.9155866149631], [21.135010090216106], [6451.6864365183119], [202.72312882337431], [7818.6252507315512], [8028.1795543159069], [3068.2077822166966], [102.10963051476101], [7774.4460086433037], [8035.9241106473219], [7575.447244109806], [576.08276217269326], [2355.927356843637], [8356.8765890522245], [626.45458284108747], [197.18779236222613], [3068.6107047713845], [137.72117843209958], [3104.8186009700526], [7781.378067259855], [805.69048560804379], [5133.5474791707438], [437.55038414044145], [206.89256871043713], [6882.6017198591589], [2976.1063418957319], [5774.5209690141119], [998.90104936362889], [3063.6765893657398], [3169.0367881350544], [5296.731456239464], [4481.1580989581407], [8954.1913041392236], [845.52162174161322], [78.522924814105096], [2773.9545387048529], [0.3400177665774598], [7280.69241008278], [497.63361982851984], [14.8860368324176], [9142.0821813199509], [8374.5612811336614], [921.89648918719263], [8057.0629165368264], [12.378227114147101], [751.04844777264259], [9494.4692405329861], [353.88702477797898], [9949.8004504953878], [6012.6242099312367], [120.47896477525848], [1686.0778593788616], [0.16793747676187301], [571.46233346908434], [6671.6286207502508], [2075.3593278008329], [8107.4138364738046], [1751.2078035249945], [641.08822594234414], [6949.6072931125827], [1.3986175864680364], [5446.566408325456], [3254.2078952922247], [1795.5856345360194], [4669.8640583488213], [5284.1069289647221], [4201.5042803574979], [7999.5837336353188], [1907.7857020911035], [32.076064733266513], [2154.2699449868337], [1924.1755192037097], [117.81294994722275], [7298.0094677357056], [3186.7541716647233], [5757.4698733050845], [6328.649352966122], [1441.1904228530725], [5562.0890865534584], [337.91834046051139], [2528.8008495062636], [3742.7967317868493], [8432.9775325372757], [5730.16310935193], [298.02587656693902], [781.97815289215237], [596.92645738695433], [3483.5065433156178], [427.78568443167831], [4782.6185945930893], [5345.1469137247868], [97.536937875900691], [6029.0342249436171], [5212.2187880484953], [5341.4255435379391], [250.72804538137561], [111.07910792159846], [1283.8398815799328], [9029.1433893497397], [29.904512341272383], [533.71053824519367], [6132.3217239085288], [145.55187263246211], [1758.1489108771791], [1438.8636484009728], [1691.3144596450152], [4747.3143537574724], [5298.1716324874533], [103.1402994357336], [2702.718713739855], [1653.6210556820508], [2117.0151660090746], [5916.8401640789989], [1286.740201531846], [4994.5828481869039], [8640.4063187202646], [308.92650694422974], [5151.4615886101728], [5377.5593473736108], [17.730267546524914], [7.1260716398705641], [6944.5175774147647], [7053.6810110480847], [9304.5292714557454], [4740.3167661737343], [49.70864929888932], [3947.6498325945063], [129.54168083145089], [138.48334331670915], [6860.7440045050607], [5152.5020580979981], [69.662828959925406], [4250.9369768001952], [3111.530890738738], [8218.5606900457697], [260.42071752614942], [35.886262525005748], [3203.455349718663], [5588.1442480463602], [426.07224181299381], [1316.0645853562119], [9256.0603367349668], [7312.8327778194334], [41.196080251834253], [6776.941440142783], [8834.2328206867678], [2610.6315197442796], [9962.5373900538743], [4120.6322859544061], [3679.8374719694962], [8035.0585165839866], [2686.2838112436712], [8606.1203830849154], [8.8499559708436539], [1113.5792299811437], [8928.5859476466158], [218.72555225419171], [3193.3060497252873], [2202.5004485618638], [885.35487144149931], [9021.9528358514453], [3427.4465488912838], [118.49835171417482], [24.05788634715271], [8711.7729795939031], [532.9629088855113], [9.8362377362466269], [4328.8084016313214], [4398.3552395613706], [6264.7821634120555], [3963.3190159894748], [13.785597152363522], [438.90078796766954], [1619.4085260510753], [2372.8916162251062], [1689.4441770094907], [4145.9985785361378], [7470.4776367333252], [34.759155104899897], [7521.2808272982884], [1671.9026649524048], [7817.2086300465126], [3823.5137267818341], [778.38254664206409], [3.527999665288128], [1608.7949538228847], [9.1007177116390139], [2396.5566659130222], [65.901964460118222], [1639.6838855854865], [3346.627834929126], [7238.0661878128913], [4201.2807316343951], [4176.6621461804816], [5628.0186223727505], [4751.5978420013071], [1183.3307175251523], [9699.5021667252022], [136.75627686934192], [78.776339921127644], [7591.2347846915709], [2649.74873956487], [135.05403843626257], [8601.4097785480208], [4257.4323572595476], [1239.4885456112202], [2390.8862518828805], [397.37231449000819], [1291.6066155107053], [6347.1364219953184], [318.66704658890501], [5912.2207170015672], [9941.1314117214479], [2062.4673667696798], [3930.0499294261663], [691.93275767200987], [2986.7110227259373], [244.57351109280827], [9770.1093555603875], [5211.0915319524738], [7261.022487146789], [2166.317281264071], [8665.5557398915007], [2219.8100290504108], [7044.349307628273], [6923.1832122879232], [3211.4382394865916], [4686.1558006217447], [56.917413694406775], [3287.7767637847851], [5949.4568355250267], [2314.1148572404604], [1762.1002738294544], [2487.448334105085], [55.449357274913552], [116.4672098241663], [59.200144085909081], [2507.8349850986265], [124.02048007038601], [6561.6578174876595], [696.22660514717757], [7434.7821213013576], [2052.6128342558627], [7145.5246052270313], [146.89151399977527], [183.69887075764692], [456.03366741104713], [1433.7462324222781], [8514.2001182634194], [2019.105112242351], [5618.9093201212781], [7759.9200450315575], [5098.338536982581], [1891.1735551029524], [3773.5153698135496], [550.34097105014769], [4951.5350194545099], [8758.2221200325512], [173.09271049165267], [0.60608525333627117], [0.53351067969276789], [3637.0611191484495], [4845.0326576499792], [3082.4564467293908], [1712.2245143589655], [672.2800944605043], [4434.0079641830116], [69.622587722019531], [8217.6599158778172], [233.22086156586192], [8529.903426657911], [7044.4489185211996], [2672.6240587133384], [141.39886565675027], [9359.9891876287729], [110.88885176675912], [2234.1017109357849], [9496.5484184955039], [1900.3137808488498], [533.71138840561071], [27.636856996291765], [167.0487329440862], [300.98976248113559], [489.59117682494161], [4089.4307180349447], [3146.7431890152584], [472.61090861017152], [4785.2719226004683], [226.68229467150064], [424.4169131161002], [9307.4052533501472], [236.43979649926902], [5287.9468397869578], [8188.748371564734], [7233.5326944825092], [275.32016859454973], [8741.9852436645451], [1715.0761898741882], [6894.9595993790344], [3906.5873185318483], [2962.2739609936734], [5776.2316351222726], [1142.2977625355315], [3978.9708054779326], [2480.9543196273262], [1223.5998417192634], [4676.9609063586458], [4180.0508805829031], [9399.7439825209549], [2716.6914130023483], [219.6173955990688], [4645.2012840571961], [600.06844472065609], [4505.3242124139051], [1408.6974131832715], [81.737020237271423], [8510.4579618941625], [2639.5367169715155], [1771.8864847472753], [9011.0519586058163], [2938.7066292271661], [71.321903503429937], [4749.7165889606113], [7091.7464379643079], [720.97608178156497], [2918.4323019581761], [7569.6283566205484], [9811.1276142073148], [96.875501505762429], [701.85079344015685], [5150.4988585379706], [8042.2307418444443], [4588.2481514032543], [3846.6472256856096], [3507.0528483040348], [32.062646333477005], [9600.2388989810061], [2910.7190730901993], [982.87286253916238], [182.76185444574472], [2902.6184269527494], [6739.630266307292], [4736.9034886925874], [191.59154518843644], [731.06937055026208], [8436.2843177518353], [4689.6141121638129], [8626.9566152357293], [9142.2743439972637], [2958.9028400568041], [6569.7469313859638], [1150.9628422591213], [4821.7310023047003], [0.18591605011062723], [2122.8051467504506], [71.140038974199442], [2109.1379324427212], [8196.5917838499445], [5004.0711388408754], [412.97486023473238], [4444.6777639509446], [7.5861235729420882], [107.1797771022969], [783.5394900440449], [1329.7538979400488], [45.842755835428925], [9864.601011478926], [3035.3749087405486], [12.512996647929731], [62.777949147024181], [1917.268099781724], [590.10454391039752], [3470.8191743504467], [0.059285474562571563], [379.4471934412108], [38.811086455725089], [553.78821544206937], [7181.098352263336], [152.90229634584955], [8130.6269757723148], [334.19614890043567], [269.55987054539008], [21.083079069581423], [8661.9505874871829], [5808.346621054342], [7730.8566180670887], [6748.2944363190491], [681.75031759090325], [2667.5140105846558], [230.58036772243156], [7247.0625854591672], [922.75550014296493], [7526.7228450591274], [9966.3470587526117], [7992.837599814774], [4917.0388622913288], [988.46171194294379], [4894.2220926811351], [9136.4609132925289], [216.98982362699283], [5465.0854919189696], [7637.927714219787], [478.47347367829371], [85.69762510020017], [5080.3798860633724], [6804.4936718181552], [1444.9081755499244], [2150.6901203947718], [70.933808981596229], [909.71338702035644], [3390.8887078008429], [287.87908764263994], [7025.8431011330713], [2032.9578908503231], [1308.0384052538084], [6763.675735730184], [8735.9676410834891], [550.95652726700655], [2745.5879263359998], [140.95969430951416], [1071.0355654954592], [6093.6696037253168], [1013.4727967693581], [940.59286735786395], [6825.9365742392265], [7974.7848606096031], [412.60786862569199], [332.34366891283753], [8.7010843938726428], [1277.0794275500284], [496.15342464683278], [12.15856076322263], [3611.1990296809777], [3707.5860085669015], [8102.4381268434572], [459.3795185513452], [7072.7779158863868], [19.076733572836293], [5146.7446559539785], [176.5061600472452], [0.053003665737562496], [1593.8071975376224], [9028.9754485928443], [2080.1300455191836], [2.157893643937602], [3505.1204315677933], [4603.1347284150052], [53.659769696887494], [6274.3420949391575], [204.38067710125253], [5564.2131693317779], [731.14356389042882], [1098.0300147656426], [4671.4594450581226], [1518.4110572391769], [1021.415579612114], [3288.4006454952405], [7529.6379003597121], [5724.1660008699473], [8411.1172506906496], [7382.3994449340034], [741.95558453261799], [1328.1653772592908], [6966.9899229948414], [246.63602502654703], [24.159184610918832], [865.47346882193722], [6967.3115191377456], [869.82677720828474], [5691.8813800998814], [1198.2898976578731], [114.89554180878244], [9339.8085253521513], [703.05369338620096], [1756.5365069046134], [6754.0933606823255], [803.02045222584036], [2569.7958188716038], [5044.7358314898938], [2905.122232058889], [663.88036913928113], [3301.5980026787197], [2549.8591722448105], [1946.9180755543871], [9778.4093445947328], [7242.8485996753298], [290.20809602780326], [4120.2536700859964], [0.36168430546380248], [3202.5295247964486], [24.642712487827868], [5790.771479007718], [27.730302925742638], [4662.9050348194032], [1678.2740189186914], [3028.2891345974272], [60.364758277991037], [422.31731256988809], [5196.0455778190344], [3023.5754466545632], [4630.8271096346953], [234.06745201499217], [499.23416806240067], [1468.1474216567899], [1355.461212340949], [3370.5129568255279], [2212.657902475733], [7206.7650852517836], [8590.2397417685479], [1353.574430885011], [44.826913714409706], [1523.0546135705499], [9593.4360467630468], [3005.2871292479704], [9775.8852407551603], [7542.2690182772249], [6508.021247391388], [2109.7720117205758], [7118.2397107540664], [5056.3471719326526], [1.2844887959384095], [9432.6303430136031], [1810.0385109181736], [15.539343241434931], [440.39944919583371], [6122.9632997467907], [4878.8710216717509], [6452.9009746446336], [6599.3921317900595], [3812.708032363335], [5145.7125180655221], [7437.23512653538], [1138.7023484728961], [3058.8560248546273], [19.786006315766326], [7613.9742303093781], [3430.1939309689492], [2877.8164922219389], [1784.0878174257562], [45.844728806132309], [922.4912674500091], [6162.5914797306241], [701.11146798944117], [9808.6576284831826], [4281.0077793149221], [3876.1606478695776], [522.99915831987255], [6468.9882281938289], [2816.6317483683824], [6762.1635705051149], [1335.7760180639384], [4451.8351508548276], [1417.7706830961658], [2806.0143126939979], [456.65004129672423], [6155.9096324479469], [3178.0560337478905], [117.59253401152336], [7229.0544345445942], [99.053603902703827], [2027.0278762350924], [1318.4143738231649], [2166.1292422254473], [491.46393672115829], [5939.3040777079668], [8915.1862576065068], [120.54028262449418], [0.2268195727459662], [9011.4622320746676], [1567.3298135366108], [5583.6409765680355], [2.5040999437240843], [2849.4451637902266], [4835.7640584004475], [4016.8271663962742], [6588.3162348230117], [568.66533172607944], [13.702833207500587], [210.12704638099214], [3114.1567852415305], [246.74441849064218], [6874.4359633257873], [226.26260785698682], [1284.5986229705031], [4696.0576897973833], [2692.7628001642433], [6.8671198503251532], [1878.3457600992865], [6291.842175304987], [1055.7134047674806], [513.1137011068937], [1436.8204711600588], [4684.2334332433074], [5907.4944114824848], [3456.9115787119913], [1380.5363864835685], [3387.1148816314317], [202.28350535231553], [3978.7886200305938], [6401.0347826237712], [5746.7979639775167], [5929.6170801953276], [4319.6157491022886], [4088.7214213388011], [4622.0754453363706], [7297.2965989158929], [20.103548373954329], [3.6144685935930378], [1003.4216215690243], [64.286358851325744], [4339.9612254784643], [7275.5811807477839], [4.0343955807914789], [3988.000889743219], [7599.1709546587454], [6607.6139025126813], [7114.0737298218846], [2344.611419247055], [82.088008999484131], [89.400594468319966], [8089.781937128274], [6586.2624534135757], [7111.6298266714266], [850.92938785822219], [8338.2682757839721], [4462.3510169464944], [8494.1340496315042], [4088.1012452794262], [985.96962035546721], [1855.0095326558269], [3980.6510197801208], [9397.3912356755172], [5370.3926616623912], [1183.6971921768609], [7.0548640014315653], [4394.9514768685613], [64.144920570199218]])\n"
     ]
    }
   ],
   "source": [
    "X2_cuadratico = [[i**2]for i in X2_train['X']]\n",
    "print(X2_train,X2_cuadratico)"
   ]
  },
  {
   "cell_type": "code",
   "execution_count": 54,
   "metadata": {
    "collapsed": false
   },
   "outputs": [
    {
     "data": {
      "text/plain": [
       "array([   0.        ,    1.01010101,    2.02020202,    3.03030303,\n",
       "          4.04040404,    5.05050505,    6.06060606,    7.07070707,\n",
       "          8.08080808,    9.09090909,   10.1010101 ,   11.11111111,\n",
       "         12.12121212,   13.13131313,   14.14141414,   15.15151515,\n",
       "         16.16161616,   17.17171717,   18.18181818,   19.19191919,\n",
       "         20.2020202 ,   21.21212121,   22.22222222,   23.23232323,\n",
       "         24.24242424,   25.25252525,   26.26262626,   27.27272727,\n",
       "         28.28282828,   29.29292929,   30.3030303 ,   31.31313131,\n",
       "         32.32323232,   33.33333333,   34.34343434,   35.35353535,\n",
       "         36.36363636,   37.37373737,   38.38383838,   39.39393939,\n",
       "         40.4040404 ,   41.41414141,   42.42424242,   43.43434343,\n",
       "         44.44444444,   45.45454545,   46.46464646,   47.47474747,\n",
       "         48.48484848,   49.49494949,   50.50505051,   51.51515152,\n",
       "         52.52525253,   53.53535354,   54.54545455,   55.55555556,\n",
       "         56.56565657,   57.57575758,   58.58585859,   59.5959596 ,\n",
       "         60.60606061,   61.61616162,   62.62626263,   63.63636364,\n",
       "         64.64646465,   65.65656566,   66.66666667,   67.67676768,\n",
       "         68.68686869,   69.6969697 ,   70.70707071,   71.71717172,\n",
       "         72.72727273,   73.73737374,   74.74747475,   75.75757576,\n",
       "         76.76767677,   77.77777778,   78.78787879,   79.7979798 ,\n",
       "         80.80808081,   81.81818182,   82.82828283,   83.83838384,\n",
       "         84.84848485,   85.85858586,   86.86868687,   87.87878788,\n",
       "         88.88888889,   89.8989899 ,   90.90909091,   91.91919192,\n",
       "         92.92929293,   93.93939394,   94.94949495,   95.95959596,\n",
       "         96.96969697,   97.97979798,   98.98989899,  100.        ])"
      ]
     },
     "execution_count": 54,
     "metadata": {},
     "output_type": "execute_result"
    }
   ],
   "source": [
    "MRL2.fit(X2_cuadratico,Y2_train)\n",
    "W=np.linspace(0,100,100)\n",
    "W"
   ]
  },
  {
   "cell_type": "code",
   "execution_count": 55,
   "metadata": {
    "collapsed": false
   },
   "outputs": [
    {
     "name": "stdout",
     "output_type": "stream",
     "text": [
      "[   0.            1.01010101    2.02020202    3.03030303    4.04040404\n",
      "    5.05050505    6.06060606    7.07070707    8.08080808    9.09090909\n",
      "   10.1010101    11.11111111   12.12121212   13.13131313   14.14141414\n",
      "   15.15151515   16.16161616   17.17171717   18.18181818   19.19191919\n",
      "   20.2020202    21.21212121   22.22222222   23.23232323   24.24242424\n",
      "   25.25252525   26.26262626   27.27272727   28.28282828   29.29292929\n",
      "   30.3030303    31.31313131   32.32323232   33.33333333   34.34343434\n",
      "   35.35353535   36.36363636   37.37373737   38.38383838   39.39393939\n",
      "   40.4040404    41.41414141   42.42424242   43.43434343   44.44444444\n",
      "   45.45454545   46.46464646   47.47474747   48.48484848   49.49494949\n",
      "   50.50505051   51.51515152   52.52525253   53.53535354   54.54545455\n",
      "   55.55555556   56.56565657   57.57575758   58.58585859   59.5959596\n",
      "   60.60606061   61.61616162   62.62626263   63.63636364   64.64646465\n",
      "   65.65656566   66.66666667   67.67676768   68.68686869   69.6969697\n",
      "   70.70707071   71.71717172   72.72727273   73.73737374   74.74747475\n",
      "   75.75757576   76.76767677   77.77777778   78.78787879   79.7979798\n",
      "   80.80808081   81.81818182   82.82828283   83.83838384   84.84848485\n",
      "   85.85858586   86.86868687   87.87878788   88.88888889   89.8989899\n",
      "   90.90909091   91.91919192   92.92929293   93.93939394   94.94949495\n",
      "   95.95959596   96.96969697   97.97979798   98.98989899  100.        ]\n"
     ]
    }
   ],
   "source": [
    "print(W)"
   ]
  },
  {
   "cell_type": "markdown",
   "metadata": {},
   "source": [
    "Ahora no se uso la función range sino la función linspace para generar una serie de valores W para la simulación"
   ]
  },
  {
   "cell_type": "markdown",
   "metadata": {},
   "source": [
    "En esta ocasion en lugar de generar una funcion con la instruccion \"for\" se vectorizara la operacion"
   ]
  },
  {
   "cell_type": "code",
   "execution_count": 57,
   "metadata": {
    "collapsed": false
   },
   "outputs": [
    {
     "data": {
      "text/plain": [
       "[<matplotlib.lines.Line2D at 0xf4116d8>]"
      ]
     },
     "execution_count": 57,
     "metadata": {},
     "output_type": "execute_result"
    },
    {
     "data": {
      "image/png": "[encoded data removed]",
      "text/plain": [
       "<matplotlib.figure.Figure at 0xfd96d68>"
      ]
     },
     "metadata": {},
     "output_type": "display_data"
    }
   ],
   "source": [
    "plt.scatter(X2_test,Y2_test)\n",
    "plt.plot(W, MRL2.predict([[i**2] for i in W]), color='red', linewidth=3)"
   ]
  },
  {
   "cell_type": "markdown",
   "metadata": {},
   "source": [
    "Nota que en esta ocasion el MRL con datos transformados si logro capturar la tendencia del conjunto de prueba"
   ]
  },
  {
   "cell_type": "markdown",
   "metadata": {},
   "source": [
    "## Repetimos el proceso con el tercer conjunto de datos"
   ]
  },
  {
   "cell_type": "code",
   "execution_count": 59,
   "metadata": {
    "collapsed": false
   },
   "outputs": [
    {
     "data": {
      "text/html": [
       "<div>\n",
       "<table border=\"1\" class=\"dataframe\">\n",
       "  <thead>\n",
       "    <tr style=\"text-align: right;\">\n",
       "      <th></th>\n",
       "      <th>X</th>\n",
       "      <th>y</th>\n",
       "    </tr>\n",
       "  </thead>\n",
       "  <tbody>\n",
       "    <tr>\n",
       "      <th>count</th>\n",
       "      <td>1029.000000</td>\n",
       "      <td>1029.000000</td>\n",
       "    </tr>\n",
       "    <tr>\n",
       "      <th>mean</th>\n",
       "      <td>50.163569</td>\n",
       "      <td>-0.024165</td>\n",
       "    </tr>\n",
       "    <tr>\n",
       "      <th>std</th>\n",
       "      <td>29.403168</td>\n",
       "      <td>0.701349</td>\n",
       "    </tr>\n",
       "    <tr>\n",
       "      <th>min</th>\n",
       "      <td>0.083795</td>\n",
       "      <td>-1.000000</td>\n",
       "    </tr>\n",
       "    <tr>\n",
       "      <th>25%</th>\n",
       "      <td>24.059073</td>\n",
       "      <td>-0.727235</td>\n",
       "    </tr>\n",
       "    <tr>\n",
       "      <th>50%</th>\n",
       "      <td>50.102445</td>\n",
       "      <td>-0.003449</td>\n",
       "    </tr>\n",
       "    <tr>\n",
       "      <th>75%</th>\n",
       "      <td>75.384381</td>\n",
       "      <td>0.665711</td>\n",
       "    </tr>\n",
       "    <tr>\n",
       "      <th>max</th>\n",
       "      <td>99.997174</td>\n",
       "      <td>0.999984</td>\n",
       "    </tr>\n",
       "  </tbody>\n",
       "</table>\n",
       "</div>"
      ],
      "text/plain": [
       "                 X            y\n",
       "count  1029.000000  1029.000000\n",
       "mean     50.163569    -0.024165\n",
       "std      29.403168     0.701349\n",
       "min       0.083795    -1.000000\n",
       "25%      24.059073    -0.727235\n",
       "50%      50.102445    -0.003449\n",
       "75%      75.384381     0.665711\n",
       "max      99.997174     0.999984"
      ]
     },
     "execution_count": 59,
     "metadata": {},
     "output_type": "execute_result"
    }
   ],
   "source": [
    "base3 = pd.read_csv(\"regLin3.csv\")\n",
    "base3.describe()"
   ]
  },
  {
   "cell_type": "code",
   "execution_count": 60,
   "metadata": {
    "collapsed": false
   },
   "outputs": [
    {
     "data": {
      "text/plain": [
       "[<matplotlib.lines.Line2D at 0xf5c8ba8>]"
      ]
     },
     "execution_count": 60,
     "metadata": {},
     "output_type": "execute_result"
    },
    {
     "data": {
      "image/png": "[encoded data removed]",
      "text/plain": [
       "<matplotlib.figure.Figure at 0xf5eb9b0>"
      ]
     },
     "metadata": {},
     "output_type": "display_data"
    }
   ],
   "source": [
    "X3_train,X3_test,Y3_train,Y3_test = train_test_split(base3[[\"X\"]],base3[[\"y\"]], train_size = 0.75)\n",
    "MRL3=LinearRegression()\n",
    "Model3=MRL3.fit(X3_train,Y3_train)\n",
    "plt.scatter(X3_test,Y3_test)\n",
    "plt.plot(X3_test, MRL3.predict(X3_test),color='red',linewidth=3)"
   ]
  },
  {
   "cell_type": "markdown",
   "metadata": {},
   "source": [
    "### Nota que parece que los datos no pueden ser aproximados por el MRL (no se ve una relación lineal entre ellos)\n",
    "¿Qué pasa cuando los transformamos de forma \"adecuada\"?"
   ]
  },
  {
   "cell_type": "code",
   "execution_count": 61,
   "metadata": {
    "collapsed": false
   },
   "outputs": [
    {
     "data": {
      "text/plain": [
       "[<matplotlib.lines.Line2D at 0xef0f358>]"
      ]
     },
     "execution_count": 61,
     "metadata": {},
     "output_type": "execute_result"
    },
    {
     "data": {
      "image/png": "[encoded data removed]",
      "text/plain": [
       "<matplotlib.figure.Figure at 0xef0f400>"
      ]
     },
     "metadata": {},
     "output_type": "display_data"
    }
   ],
   "source": [
    "MRL3.fit([[mth.sin(i)] for i in X3_train['X']],Y3_train)\n",
    "# Generamos los valores de W\n",
    "W=np.linspace(0,100,100)\n",
    "W_transformed=[[mth.sin(i)]for i in W]\n",
    "plt.scatter(X3_test, Y3_test, color='blue')\n",
    "plt.plot(x,MRL3.predict(W_transformed),color = 'red', linewidth = 1)\n"
   ]
  },
  {
   "cell_type": "markdown",
   "metadata": {},
   "source": [
    "### Nota que pudimos usar un MRL para estimar replicar la linea de tendencia entre datos y, X con tendencía no lineal"
   ]
  },
  {
   "cell_type": "code",
   "execution_count": null,
   "metadata": {
    "collapsed": true
   },
   "outputs": [],
   "source": []
  }
 ],
 "metadata": {
  "anaconda-cloud": {},
  "kernelspec": {
   "display_name": "Python [Root]",
   "language": "python",
   "name": "Python [Root]"
  },
  "language_info": {
   "codemirror_mode": {
    "name": "ipython",
    "version": 2
   },
   "file_extension": ".py",
   "mimetype": "text/x-python",
   "name": "python",
   "nbconvert_exporter": "python",
   "pygments_lexer": "ipython2",
   "version": "2.7.12"
  }
 },
 "nbformat": 4,
 "nbformat_minor": 0
}
